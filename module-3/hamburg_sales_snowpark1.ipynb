{
 "cells": [
  {
   "cell_type": "markdown",
   "id": "0a499f95-57dc-48ea-b6f6-0082ee4516db",
   "metadata": {
    "collapsed": false,
    "name": "title"
   },
   "source": [
    "# Module 3: Data Transformations with Snowpark"
   ]
  },
  {
   "cell_type": "markdown",
   "id": "28a51626-ef0f-412c-8af5-a7964a1c85ee",
   "metadata": {
    "collapsed": false,
    "name": "snowpark_session"
   },
   "source": [
    "## Start a Snowpark session with `get_active_session()`:"
   ]
  },
  {
   "cell_type": "code",
   "execution_count": null,
   "id": "3775908f-ca36-4846-8f38-5adca39217f2",
   "metadata": {
    "language": "python",
    "name": "start_snowpark_session"
   },
   "outputs": [],
   "source": [
    "#from snowflake.snowpark.functions import col, max as sp_max, year, month\n",
    "\n",
    "\n",
    "# We can also use Snowpark for our analyses!\n",
    "#from snowflake.snowpark.context import get_active_session\n",
    "#session = get_active_session()\n"
   ]
  },
  {
   "cell_type": "code",
   "execution_count": 4,
   "id": "083f15a4",
   "metadata": {},
   "outputs": [],
   "source": [
    "from __future__ import annotations # is a feature that allows for postponed evaluation of type annotations. \n",
    "#This means that the annotations won't be evaluated at the time of function or class definition but rather when they're actually needed, such as at runtime or when using tools that analyze type hints.\n",
    "from snowflake.snowpark.session import Session \n",
    "from snowflake.snowpark import DataFrame \n",
    "from snowflake.snowpark.functions import col, max as sp_max, year, month\n",
    "import json"
   ]
  },
  {
   "cell_type": "code",
   "execution_count": 5,
   "id": "bb9447c3",
   "metadata": {},
   "outputs": [],
   "source": [
    "session = Session.builder.configs(json.load(open(\"/Users/pl157r/.snowsql/connection.json\"))).create()"
   ]
  },
  {
   "cell_type": "markdown",
   "id": "4df144e4-bd0f-4d07-808f-d3e38c933269",
   "metadata": {
    "collapsed": false,
    "name": "load_daily_weather_v"
   },
   "source": [
    "## Load the daily_weather_v using session.table"
   ]
  },
  {
   "cell_type": "code",
   "execution_count": 6,
   "id": "bd5f6456-4de2-434b-ad08-e24bce713a6f",
   "metadata": {
    "language": "python",
    "name": "daily_weather"
   },
   "outputs": [],
   "source": [
    "daily_weather = session.table(\"tasty_bytes.harmonized.daily_weather_v\")\n",
    "\n",
    "filtered_weather = daily_weather.filter(\n",
    "    (col(\"country_desc\") == \"Germany\") &\n",
    "    (col(\"city_name\") == \"Hamburg\") &\n",
    "    (year(col(\"date_valid_std\")) == 2022) &\n",
    "    (month(col(\"date_valid_std\")) == 2)\n",
    ")"
   ]
  },
  {
   "cell_type": "markdown",
   "id": "6ae3242c-6945-4706-911a-71473b654329",
   "metadata": {
    "collapsed": false,
    "name": "filter_agg_sort"
   },
   "source": [
    "## Perform filtering, aggregations, and sorting"
   ]
  },
  {
   "cell_type": "code",
   "execution_count": 7,
   "id": "2c722fbd-78c2-4dba-b35a-81e1975d4454",
   "metadata": {
    "language": "python",
    "name": "transformations"
   },
   "outputs": [],
   "source": [
    "aggregated_weather = filtered_weather.groupBy(\n",
    "    \"country_desc\", \"city_name\", \"date_valid_std\"\n",
    ").agg(\n",
    "    sp_max(\"max_wind_speed_100m_mph\").alias(\"max_wind_speed_100m_mph\")\n",
    ")\n",
    "\n",
    "sorted_weather = aggregated_weather.sort(col(\"date_valid_std\").desc())\n"
   ]
  },
  {
   "cell_type": "markdown",
   "id": "27d1f112-f73a-4d6e-993f-84d29e6dc1e9",
   "metadata": {
    "collapsed": false,
    "name": "results"
   },
   "source": [
    "## Diplay the results"
   ]
  },
  {
   "cell_type": "code",
   "execution_count": 8,
   "id": "74966e8a-9e1c-48c6-8b7e-5617c231a57e",
   "metadata": {
    "language": "python",
    "name": "print_sorted_weather"
   },
   "outputs": [
    {
     "name": "stdout",
     "output_type": "stream",
     "text": [
      "-------------------------------------------------------------------------------\n",
      "|\"COUNTRY_DESC\"  |\"CITY_NAME\"  |\"DATE_VALID_STD\"  |\"MAX_WIND_SPEED_100M_MPH\"  |\n",
      "-------------------------------------------------------------------------------\n",
      "|Germany         |Hamburg      |2022-02-28        |23.0                       |\n",
      "|Germany         |Hamburg      |2022-02-27        |17.0                       |\n",
      "|Germany         |Hamburg      |2022-02-26        |21.2                       |\n",
      "|Germany         |Hamburg      |2022-02-25        |34.7                       |\n",
      "|Germany         |Hamburg      |2022-02-24        |38.2                       |\n",
      "|Germany         |Hamburg      |2022-02-23        |31.6                       |\n",
      "|Germany         |Hamburg      |2022-02-22        |37.0                       |\n",
      "|Germany         |Hamburg      |2022-02-21        |47.7                       |\n",
      "|Germany         |Hamburg      |2022-02-20        |47.7                       |\n",
      "|Germany         |Hamburg      |2022-02-19        |66.5                       |\n",
      "|Germany         |Hamburg      |2022-02-18        |60.2                       |\n",
      "|Germany         |Hamburg      |2022-02-17        |55.0                       |\n",
      "|Germany         |Hamburg      |2022-02-16        |51.6                       |\n",
      "|Germany         |Hamburg      |2022-02-15        |37.4                       |\n",
      "|Germany         |Hamburg      |2022-02-14        |31.0                       |\n",
      "|Germany         |Hamburg      |2022-02-13        |30.6                       |\n",
      "|Germany         |Hamburg      |2022-02-12        |24.9                       |\n",
      "|Germany         |Hamburg      |2022-02-11        |20.6                       |\n",
      "|Germany         |Hamburg      |2022-02-10        |22.0                       |\n",
      "|Germany         |Hamburg      |2022-02-09        |31.1                       |\n",
      "|Germany         |Hamburg      |2022-02-08        |35.2                       |\n",
      "|Germany         |Hamburg      |2022-02-07        |37.1                       |\n",
      "|Germany         |Hamburg      |2022-02-06        |39.4                       |\n",
      "|Germany         |Hamburg      |2022-02-05        |39.3                       |\n",
      "|Germany         |Hamburg      |2022-02-04        |33.5                       |\n",
      "|Germany         |Hamburg      |2022-02-03        |28.2                       |\n",
      "|Germany         |Hamburg      |2022-02-02        |38.7                       |\n",
      "|Germany         |Hamburg      |2022-02-01        |38.3                       |\n",
      "-------------------------------------------------------------------------------\n",
      "\n"
     ]
    }
   ],
   "source": [
    "sorted_weather.show(30)"
   ]
  },
  {
   "cell_type": "code",
   "execution_count": 9,
   "id": "4aa00e58-3a9f-4fd5-ae75-6b06e49bbbf4",
   "metadata": {
    "language": "python",
    "name": "create_view"
   },
   "outputs": [
    {
     "data": {
      "text/plain": [
       "[Row(status='View WINDSPEED_HAMBURG_SNOWPARK successfully created.')]"
      ]
     },
     "execution_count": 9,
     "metadata": {},
     "output_type": "execute_result"
    }
   ],
   "source": [
    "sorted_weather.create_or_replace_view(\"tasty_bytes.harmonized.windspeed_hamburg_snowpark\")"
   ]
  },
  {
   "cell_type": "code",
   "execution_count": 10,
   "id": "65ea3a39",
   "metadata": {},
   "outputs": [],
   "source": [
    "session.close()"
   ]
  }
 ],
 "metadata": {
  "kernelspec": {
   "display_name": "snowpark39_env",
   "language": "python",
   "name": "python3"
  },
  "language_info": {
   "codemirror_mode": {
    "name": "ipython",
    "version": 3
   },
   "file_extension": ".py",
   "mimetype": "text/x-python",
   "name": "python",
   "nbconvert_exporter": "python",
   "pygments_lexer": "ipython3",
   "version": "3.9.19"
  }
 },
 "nbformat": 4,
 "nbformat_minor": 5
}
